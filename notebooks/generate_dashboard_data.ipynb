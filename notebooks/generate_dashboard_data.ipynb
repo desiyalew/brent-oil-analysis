{
 "cells": [
  {
   "cell_type": "code",
   "execution_count": 14,
   "id": "e8094ca0",
   "metadata": {},
   "outputs": [],
   "source": [
    "import pandas as pd\n",
    "import numpy as np\n",
    "import json\n",
    "import os\n",
    "from datetime import datetime"
   ]
  },
  {
   "cell_type": "code",
   "execution_count": 15,
   "id": "4bd6a768",
   "metadata": {},
   "outputs": [
    {
     "name": "stdout",
     "output_type": "stream",
     "text": [
      "🚀 Starting data processing to generate dashboard JSON files...\n",
      "\n"
     ]
    }
   ],
   "source": [
    "os.makedirs(\"../dashboard/dashboard_data\", exist_ok=True)\n",
    "\n",
    "print(\"🚀 Starting data processing to generate dashboard JSON files...\\n\")"
   ]
  },
  {
   "cell_type": "code",
   "execution_count": 16,
   "id": "afd21148",
   "metadata": {},
   "outputs": [],
   "source": [
    "with open(\"../data/raw/BrentOilPrices.csv\", \"r\") as f:\n",
    "    content = f.read().strip()\n",
    "\n",
    "# Split by comma, then group every two values: (Date, Price)\n",
    "parts = [p.strip() for p in content.split(\",\")]\n",
    "\n",
    "# Handle mixed format: '20-May-87' and '\"Jul 04, 2022\"'\n",
    "dates = []\n",
    "prices = []\n",
    "\n",
    "i = 0\n",
    "while i < len(parts):\n",
    "    date_str = parts[i].replace('\"', '').strip()\n",
    "    if i + 1 >= len(parts):\n",
    "        break\n",
    "    try:\n",
    "        price = float(parts[i + 1])\n",
    "        dates.append(date_str)\n",
    "        prices.append(price)\n",
    "        i += 2\n",
    "    except ValueError:\n",
    "        # Skip invalid price\n",
    "        i += 1"
   ]
  },
  {
   "cell_type": "code",
   "execution_count": 17,
   "id": "7f396870",
   "metadata": {},
   "outputs": [
    {
     "name": "stdout",
     "output_type": "stream",
     "text": [
      "✅ Cleaned data: 0 rows | Range: nan to nan\n"
     ]
    }
   ],
   "source": [
    "# Create DataFrame\n",
    "df = pd.DataFrame({\"Date\": dates, \"Price\": prices})\n",
    "\n",
    "# Parse dates: two formats\n",
    "def parse_date(date_str):\n",
    "    date_str = date_str.strip()\n",
    "    try:\n",
    "        return datetime.strptime(date_str, \"%d-%b-%y\")  # e.g., 20-May-87\n",
    "    except:\n",
    "        try:\n",
    "            return datetime.strptime(date_str, \"%b %d, %Y\")  # e.g., Jul 04, 2022\n",
    "        except:\n",
    "            return None\n",
    "\n",
    "df[\"Date\"] = df[\"Date\"].apply(parse_date)\n",
    "df = df.dropna().reset_index(drop=True)\n",
    "df = df.sort_values(\"Date\").reset_index(drop=True)\n",
    "\n",
    "print(f\"✅ Cleaned data: {len(df)} rows | Range: {df['Date'].min()} to {df['Date'].max()}\")"
   ]
  },
  {
   "cell_type": "code",
   "execution_count": 18,
   "id": "f055e2bd",
   "metadata": {},
   "outputs": [
    {
     "name": "stdout",
     "output_type": "stream",
     "text": [
      "✅ Saved: dashboard_data/prices.json\n"
     ]
    }
   ],
   "source": [
    "prices_json = [\n",
    "    {\"Date\": row[\"Date\"].strftime(\"%Y-%m-%d\"), \"Price\": round(row[\"Price\"], 2)}\n",
    "    for _, row in df.iterrows()\n",
    "]\n",
    "\n",
    "with open(\"../dashboard/dashboard_data/prices.json\", \"w\") as f:\n",
    "    json.dump(prices_json, f, indent=2)\n",
    "\n",
    "print(\"✅ Saved: dashboard_data/prices.json\")"
   ]
  },
  {
   "cell_type": "code",
   "execution_count": 19,
   "id": "8b8311bb",
   "metadata": {},
   "outputs": [
    {
     "name": "stdout",
     "output_type": "stream",
     "text": [
      "✅ Saved: dashboard_data/events.json\n"
     ]
    }
   ],
   "source": [
    "events_data = [\n",
    "    {\"Date\": \"1990-08-02\", \"Event_Description\": \"Iraq invades Kuwait\", \"Event_Type\": \"Conflict\"},\n",
    "    {\"Date\": \"1991-01-17\", \"Event_Description\": \"Gulf War begins\", \"Event_Type\": \"Conflict\"},\n",
    "    {\"Date\": \"2001-09-11\", \"Event_Description\": \"9/11 Attacks\", \"Event_Type\": \"Geopolitical\"},\n",
    "    {\"Date\": \"2003-03-20\", \"Event_Description\": \"US-led invasion of Iraq\", \"Event_Type\": \"Conflict\"},\n",
    "    {\"Date\": \"2008-09-15\", \"Event_Description\": \"Lehman Brothers collapse\", \"Event_Type\": \"Economic_Crisis\"},\n",
    "    {\"Date\": \"2011-02-15\", \"Event_Description\": \"Arab Spring begins\", \"Event_Type\": \"Political_Unrest\"},\n",
    "    {\"Date\": \"2014-11-27\", \"Event_Description\": \"OPEC refuses to cut production\", \"Event_Type\": \"OPEC_Policy\"},\n",
    "    {\"Date\": \"2016-11-30\", \"Event_Description\": \"OPEC agrees to cut output\", \"Event_Type\": \"OPEC_Policy\"},\n",
    "    {\"Date\": \"2018-05-08\", \"Event_Description\": \"US exits Iran Nuclear Deal\", \"Event_Type\": \"Sanction\"},\n",
    "    {\"Date\": \"2020-03-08\", \"Event_Description\": \"Russia-Saudi price war\", \"Event_Type\": \"Conflict/OPEC\"},\n",
    "    {\"Date\": \"2020-04-20\", \"Event_Description\": \"WTI crude futures crash to -$37\", \"Event_Type\": \"Market_Anomaly\"},\n",
    "    {\"Date\": \"2022-02-24\", \"Event_Description\": \"Russia invades Ukraine\", \"Event_Type\": \"Conflict\"},\n",
    "    {\"Date\": \"2022-03-08\", \"Event_Description\": \"US bans Russian oil imports\", \"Event_Type\": \"Sanction\"},\n",
    "    {\"Date\": \"2022-06-03\", \"Event_Description\": \"EU partial Russian oil embargo\", \"Event_Type\": \"Sanction\"},\n",
    "    {\"Date\": \"2020-01-30\", \"Event_Description\": \"WHO declares global health emergency (Covid-19)\", \"Event_Type\": \"Pandemic\"}\n",
    "]\n",
    "\n",
    "# Convert event dates to datetime for consistency\n",
    "for e in events_data:\n",
    "    e[\"Date\"] = pd.to_datetime(e[\"Date\"]).strftime(\"%Y-%m-%d\")\n",
    "\n",
    "with open(\"../dashboard/dashboard_data/events.json\", \"w\") as f:\n",
    "    json.dump(events_data, f, indent=2)\n",
    "\n",
    "print(\"✅ Saved: dashboard_data/events.json\")"
   ]
  }
 ],
 "metadata": {
  "kernelspec": {
   "display_name": "Python 3",
   "language": "python",
   "name": "python3"
  },
  "language_info": {
   "codemirror_mode": {
    "name": "ipython",
    "version": 3
   },
   "file_extension": ".py",
   "mimetype": "text/x-python",
   "name": "python",
   "nbconvert_exporter": "python",
   "pygments_lexer": "ipython3",
   "version": "3.10.11"
  }
 },
 "nbformat": 4,
 "nbformat_minor": 5
}
